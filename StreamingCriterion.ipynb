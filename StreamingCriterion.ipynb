{
 "cells": [
  {
   "cell_type": "markdown",
   "metadata": {
    "application/vnd.databricks.v1+cell": {
     "cellMetadata": {},
     "inputWidgets": {},
     "nuid": "96816ed7-b08a-4ca3-abb9-f99880c3535d",
     "showTitle": false,
     "tableResultSettingsMap": {},
     "title": ""
    }
   },
   "source": [
    "\n",
    "## Overview\n",
    "\n",
    "This notebook will show you how to create and query a table or DataFrame that you uploaded to DBFS. [DBFS](https://docs.databricks.com/user-guide/dbfs-databricks-file-system.html) is a Databricks File System that allows you to store data for querying inside of Databricks. This notebook assumes that you have a file already inside of DBFS that you would like to read from.\n",
    "\n",
    "This notebook is written in **Python** so the default cell type is Python. However, you can use different languages by using the `%LANGUAGE` syntax. Python, Scala, SQL, and R are all supported."
   ]
  },
  {
   "cell_type": "code",
   "execution_count": 0,
   "metadata": {
    "application/vnd.databricks.v1+cell": {
     "cellMetadata": {
      "byteLimit": 2048000,
      "rowLimit": 10000
     },
     "inputWidgets": {},
     "nuid": "6482be4c-f067-47c9-b0ac-35c938b94601",
     "showTitle": false,
     "tableResultSettingsMap": {},
     "title": ""
    }
   },
   "outputs": [
    {
     "output_type": "stream",
     "name": "stdout",
     "output_type": "stream",
     "text": [
      "+-------+-------+--------------------+--------------------+--------------------+--------------------+------------------+------------+------+---------+--------------------+--------------------+\n|show_id|   type|               title|            director|                cast|             country|        date_added|release_year|rating| duration|           listed_in|         description|\n+-------+-------+--------------------+--------------------+--------------------+--------------------+------------------+------------+------+---------+--------------------+--------------------+\n|     s1|  Movie|Dick Johnson Is Dead|     Kirsten Johnson|                null|       United States|September 25, 2021|        2020| PG-13|   90 min|       Documentaries|As her father nea...|\n|     s2|TV Show|       Blood & Water|                null|Ama Qamata, Khosi...|        South Africa|September 24, 2021|        2021| TV-MA|2 Seasons|International TV ...|After crossing pa...|\n|     s3|TV Show|           Ganglands|     Julien Leclercq|Sami Bouajila, Tr...|                null|September 24, 2021|        2021| TV-MA| 1 Season|Crime TV Shows, I...|To protect his fa...|\n|     s4|TV Show|Jailbirds New Orl...|                null|                null|                null|September 24, 2021|        2021| TV-MA| 1 Season|Docuseries, Reali...|Feuds, flirtation...|\n|     s5|TV Show|        Kota Factory|                null|Mayur More, Jiten...|               India|September 24, 2021|        2021| TV-MA|2 Seasons|International TV ...|In a city of coac...|\n|     s6|TV Show|       Midnight Mass|       Mike Flanagan|Kate Siegel, Zach...|                null|September 24, 2021|        2021| TV-MA| 1 Season|TV Dramas, TV Hor...|The arrival of a ...|\n|     s7|  Movie|My Little Pony: A...|Robert Cullen, Jo...|Vanessa Hudgens, ...|                null|September 24, 2021|        2021|    PG|   91 min|Children & Family...|Equestria's divid...|\n|     s8|  Movie|             Sankofa|        Haile Gerima|Kofi Ghanaba, Oya...|United States, Gh...|September 24, 2021|        1993| TV-MA|  125 min|Dramas, Independe...|On a photo shoot ...|\n|     s9|TV Show|The Great British...|     Andy Devonshire|Mel Giedroyc, Sue...|      United Kingdom|September 24, 2021|        2021| TV-14|9 Seasons|British TV Shows,...|A talented batch ...|\n|    s10|  Movie|        The Starling|      Theodore Melfi|Melissa McCarthy,...|       United States|September 24, 2021|        2021| PG-13|  104 min|    Comedies, Dramas|A woman adjusting...|\n+-------+-------+--------------------+--------------------+--------------------+--------------------+------------------+------------+------+---------+--------------------+--------------------+\nonly showing top 10 rows\n\n"
     ]
    }
   ],
   "source": [
    "# File location and type\n",
    "netflixcsv = \"/FileStore/tables/StreamingTest/netflix_titles-1.csv\"\n",
    "hulucsv = \"/FileStore/tables/StreamingTest/hulu_titles.csv\"\n",
    "disneycsv = \"/FileStore/tables/StreamingTest/disney_plus_titles.csv\"\n",
    "amazoncsv = \"/FileStore/tables/StreamingTest/amazon_prime_titles.csv\"\n",
    "criterioncsv = \"/FileStore/tables/StreamingTest/criterion_titles.csv\"\n",
    "file_type = \"csv\"\n",
    "\n",
    "# CSV options\n",
    "infer_schema = \"false\"\n",
    "first_row_is_header = \"true\"\n",
    "delimiter = \",\"\n",
    "\n",
    "# The applied options are for CSV files. For other file types, these will be ignored.\n",
    "netflix_df = spark.read.format(file_type) \\\n",
    "  .option(\"inferSchema\", infer_schema) \\\n",
    "  .option(\"header\", first_row_is_header) \\\n",
    "  .option(\"sep\", delimiter) \\\n",
    "  .load(netflixcsv)\n",
    "\n",
    "netflix_df.show(10)"
   ]
  },
  {
   "cell_type": "code",
   "execution_count": 0,
   "metadata": {
    "application/vnd.databricks.v1+cell": {
     "cellMetadata": {
      "byteLimit": 2048000,
      "rowLimit": 10000
     },
     "inputWidgets": {},
     "nuid": "b4de111d-d391-4c6e-be74-84edbf904380",
     "showTitle": false,
     "tableResultSettingsMap": {},
     "title": ""
    }
   },
   "outputs": [
    {
     "output_type": "stream",
     "name": "stdout",
     "output_type": "stream",
     "text": [
      "+-------+-------+--------------------+--------+----+-------------+----------------+------------+------+---------+--------------------+--------------------+\n|show_id|   type|               title|director|cast|      country|      date_added|release_year|rating| duration|           listed_in|         description|\n+-------+-------+--------------------+--------+----+-------------+----------------+------------+------+---------+--------------------+--------------------+\n|     s1|  Movie|Ricky Velez: Here...|    null|null|         null|October 24, 2021|        2021| TV-MA|     null|    Comedy, Stand Up|​Comedian Ricky V...|\n|     s2|  Movie|        Silent Night|    null|null|         null|October 23, 2021|        2020|  null|   94 min|Crime, Drama, Thr...|Mark, a low end S...|\n|     s3|  Movie|        The Marksman|    null|null|         null|October 23, 2021|        2021| PG-13|  108 min|    Action, Thriller|A hardened Arizon...|\n|     s4|  Movie|                Gaia|    null|null|         null|October 22, 2021|        2021|     R|   97 min|              Horror|A forest ranger a...|\n|     s5|  Movie|            Settlers|    null|null|         null|October 22, 2021|        2021|  null|  104 min|Science Fiction, ...|Mankind's earlies...|\n|     s6|TV Show|The Halloween Can...|    null|null|         null|October 22, 2021|        2021|  null| 1 Season|        Family, Kids|Join Mila and Mor...|\n|     s7|  Movie|  The Evil Next Door|    null|null|         null|October 21, 2021|        2020|  null|   88 min|    Horror, Thriller|New to her role a...|\n|     s8|TV Show|The Next Thing Yo...|    null|null|         null|October 21, 2021|        2021|  null| 1 Season|Cooking & Food, D...|With the unique i...|\n|     s9|TV Show|              Queens|    null|null|         null|October 20, 2021|        2021| TV-14| 1 Season|        Drama, Music|Four women in the...|\n|    s10|TV Show|    The Bachelorette|    null|null|United States|October 20, 2021|        2003| TV-14|3 Seasons|    Reality, Romance|ABC's romance rea...|\n+-------+-------+--------------------+--------+----+-------------+----------------+------------+------+---------+--------------------+--------------------+\nonly showing top 10 rows\n\n"
     ]
    }
   ],
   "source": [
    "hulu_df = spark.read.format(file_type) \\\n",
    "  .option(\"inferSchema\", infer_schema) \\\n",
    "  .option(\"header\", first_row_is_header) \\\n",
    "  .option(\"sep\", delimiter) \\\n",
    "  .load(hulucsv)\n",
    "\n",
    "hulu_df.show(10)"
   ]
  },
  {
   "cell_type": "code",
   "execution_count": 0,
   "metadata": {
    "application/vnd.databricks.v1+cell": {
     "cellMetadata": {
      "byteLimit": 2048000,
      "rowLimit": 10000
     },
     "inputWidgets": {},
     "nuid": "ce49a94b-dce6-4e2b-80ce-f96b472e2eee",
     "showTitle": false,
     "tableResultSettingsMap": {},
     "title": ""
    }
   },
   "outputs": [
    {
     "output_type": "stream",
     "name": "stdout",
     "output_type": "stream",
     "text": [
      "+-------+-------+--------------------+--------------------+--------------------+-------------+-----------------+------------+------+---------+--------------------+--------------------+\n|show_id|   type|               title|            director|                cast|      country|       date_added|release_year|rating| duration|           listed_in|         description|\n+-------+-------+--------------------+--------------------+--------------------+-------------+-----------------+------------+------+---------+--------------------+--------------------+\n|     s1|  Movie|Duck the Halls: A...|Alonso Ramirez Ra...|Chris Diamantopou...|         null|November 26, 2021|        2016|  TV-G|   23 min|   Animation, Family|Join Mickey and t...|\n|     s2|  Movie|Ernest Saves Chri...|         John Cherry|Jim Varney, Noell...|         null|November 26, 2021|        1988|    PG|   91 min|              Comedy|Santa Claus passe...|\n|     s3|  Movie|Ice Age: A Mammot...|        Karen Disher|Raymond Albert Ro...|United States|November 26, 2021|        2011|  TV-G|   23 min|Animation, Comedy...|Sid the Sloth is ...|\n|     s4|  Movie|The Queen Family ...|     Hamish Hamilton|Darren Criss, Ada...|         null|November 26, 2021|        2021| TV-PG|   41 min|             Musical|This is real life...|\n|     s5|TV Show|The Beatles: Get ...|                null|John Lennon, Paul...|         null|November 25, 2021|        2021|  null| 1 Season|Docuseries, Histo...|A three-part docu...|\n|     s6|  Movie|   Becoming Cousteau|          Liz Garbus|Jacques Yves Cous...|United States|November 24, 2021|        2021| PG-13|   94 min|Biographical, Doc...|An inside look at...|\n|     s7|TV Show|             Hawkeye|                null|Jeremy Renner, Ha...|         null|November 24, 2021|        2021| TV-14| 1 Season|Action-Adventure,...|Clint Barton/Hawk...|\n|     s8|TV Show|Port Protection A...|                null|Gary Muehlberger,...|United States|November 24, 2021|        2015| TV-14|2 Seasons|Docuseries, Reali...|Residents of Port...|\n|     s9|TV Show|Secrets of the Zo...|                null|Dr. Ray Ball, Dr....|United States|November 24, 2021|        2019| TV-PG|2 Seasons|Animals & Nature,...|A day in the life...|\n|    s10|  Movie|A Muppets Christm...|    Kirk R. Thatcher|Steve Whitmire, D...|United States|November 19, 2021|        2008|     G|   45 min|Comedy, Family, M...|Celebrate the hol...|\n+-------+-------+--------------------+--------------------+--------------------+-------------+-----------------+------------+------+---------+--------------------+--------------------+\nonly showing top 10 rows\n\n"
     ]
    }
   ],
   "source": [
    "disney_df = spark.read.format(file_type) \\\n",
    "  .option(\"inferSchema\", infer_schema) \\\n",
    "  .option(\"header\", first_row_is_header) \\\n",
    "  .option(\"sep\", delimiter) \\\n",
    "  .load(disneycsv)\n",
    "\n",
    "disney_df.show(10)"
   ]
  },
  {
   "cell_type": "code",
   "execution_count": 0,
   "metadata": {
    "application/vnd.databricks.v1+cell": {
     "cellMetadata": {
      "byteLimit": 2048000,
      "rowLimit": 10000
     },
     "inputWidgets": {},
     "nuid": "92a8ed81-f7bc-4be6-9cf5-991c8a4f50e3",
     "showTitle": false,
     "tableResultSettingsMap": {},
     "title": ""
    }
   },
   "outputs": [
    {
     "output_type": "stream",
     "name": "stdout",
     "output_type": "stream",
     "text": [
      "+-------+-----+--------------------+--------------------+--------------------+--------------+--------------+------------+------+--------+--------------------+--------------------+\n|show_id| type|               title|            director|                cast|       country|    date_added|release_year|rating|duration|           listed_in|         description|\n+-------+-----+--------------------+--------------------+--------------------+--------------+--------------+------------+------+--------+--------------------+--------------------+\n|     s1|Movie| The Grand Seduction|        Don McKellar|Brendan Gleeson, ...|        Canada|March 30, 2021|        2014|  null| 113 min|       Comedy, Drama|A small fishing v...|\n|     s2|Movie|Take Care Good Night|        Girish Joshi|Mahesh Manjrekar,...|         India|March 30, 2021|        2018|   13+| 110 min|Drama, International|A Metro Family de...|\n|     s3|Movie|Secrets of Deception|         Josh Webber|Tom Sizemore, Lor...| United States|March 30, 2021|        2017|  null|  74 min|Action, Drama, Su...|After a man disco...|\n|     s4|Movie|  Pink: Staying True|      Sonia Anderson|Interviews with: ...| United States|March 30, 2021|        2014|  null|  69 min|         Documentary|\"Pink breaks the ...|\n|     s5|Movie|       Monster Maker|        Giles Foster|Harry Dean Stanto...|United Kingdom|March 30, 2021|        1989|  null|  45 min|      Drama, Fantasy|Teenage Matt Bant...|\n|     s6|Movie|Living With Dinos...|        Paul Weiland|Gregory Chisholm,...|United Kingdom|March 30, 2021|        1989|  null|  52 min|       Fantasy, Kids|The story unfolds...|\n|     s7|Movie|           Hired Gun|         Fran Strine|Alice Cooper, Lib...| United States|March 30, 2021|        2017|  null|  98 min|Documentary, Spec...|\"They are the \"\"F...|\n|     s8|Movie|        Grease Live!|Thomas Kail, Alex...|Julianne Hough, A...| United States|March 30, 2021|        2016|  null| 131 min|              Comedy|This honest, unco...|\n|     s9|Movie|     Global Meltdown|       Daniel Gilboy|Michael Paré, Lea...|        Canada|March 30, 2021|        2017|  null|  87 min|Action, Science F...|A helicopter pilo...|\n|    s10|Movie|      David's Mother|Robert Allan Acke...|Kirstie Alley, Sa...| United States| April 1, 2021|        1994|  null|  92 min|               Drama|\"Sally Goodson is...|\n+-------+-----+--------------------+--------------------+--------------------+--------------+--------------+------------+------+--------+--------------------+--------------------+\nonly showing top 10 rows\n\n"
     ]
    }
   ],
   "source": [
    "amazon_df = spark.read.format(file_type) \\\n",
    "  .option(\"inferSchema\", infer_schema) \\\n",
    "  .option(\"header\", first_row_is_header) \\\n",
    "  .option(\"sep\", delimiter) \\\n",
    "  .load(amazoncsv)\n",
    "\n",
    "amazon_df.show(10)"
   ]
  },
  {
   "cell_type": "code",
   "execution_count": 0,
   "metadata": {
    "application/vnd.databricks.v1+cell": {
     "cellMetadata": {
      "byteLimit": 2048000,
      "rowLimit": 10000
     },
     "inputWidgets": {},
     "nuid": "e08531f9-30bc-45aa-89f1-ebcff4df49da",
     "showTitle": false,
     "tableResultSettingsMap": {},
     "title": ""
    }
   },
   "outputs": [
    {
     "output_type": "stream",
     "name": "stdout",
     "output_type": "stream",
     "text": [
      "+---+--------------------+--------------------+----------------+--------------------+----+--------------------+--------------------+\n|_c0|               Title|         Description|        Director|             Country|Year|            Language|               Image|\n+---+--------------------+--------------------+----------------+--------------------+----+--------------------+--------------------+\n|  0|2 or 3 Things I K...|In2 or 3 Things I...| Jean-Luc Godard|              France|1967|              French|https://s3.amazon...|\n|  1|        3:10 to Yuma|In this beautiful...|    Delmer Daves|       United States|1957|             English|https://s3.amazon...|\n|  2|             3 Women|In a dusty, under...|   Robert Altman|       United States|1977|             English|https://s3.amazon...|\n|  3|4 Months, 3 Weeks...|Romanian filmmake...| Cristian Mungiu|             Romania|2007|            Romanian|https://s3.amazon...|\n|  4|                  8½|Marcello Mastroia...|Federico Fellini|Italy,           ...|1963|German,          ...|https://s3.amazon...|\n|  5|        12 Angry Men|12 Angry Men,by S...|    Sidney Lumet|       United States|1957|             English|https://s3.amazon...|\n|  6|           24 Frames|For what would pr...|Abbas Kiarostami|                Iran|2017|                null|https://s3.amazon...|\n|  7|        The 39 Steps|A heart-racing sp...|Alfred Hitchcock|      United Kingdom|1935|             English|https://s3.amazon...|\n|  8|            45 Years|In this exquisite...|    Andrew Haigh|      United Kingdom|2015|             English|https://s3.amazon...|\n|  9|       49th Parallel|At once a compell...|  Michael Powell|      United Kingdom|1941|             English|https://s3.amazon...|\n+---+--------------------+--------------------+----------------+--------------------+----+--------------------+--------------------+\nonly showing top 10 rows\n\n"
     ]
    }
   ],
   "source": [
    "criterion_df = spark.read.format(file_type) \\\n",
    "  .option(\"inferSchema\", infer_schema) \\\n",
    "  .option(\"header\", first_row_is_header) \\\n",
    "  .option(\"sep\", delimiter) \\\n",
    "  .load(criterioncsv)\n",
    "\n",
    "criterion_df.show(10)"
   ]
  },
  {
   "cell_type": "code",
   "execution_count": 0,
   "metadata": {
    "application/vnd.databricks.v1+cell": {
     "cellMetadata": {
      "byteLimit": 2048000,
      "rowLimit": 10000
     },
     "inputWidgets": {},
     "nuid": "bd82bb99-1479-4d5c-be10-8c36df0f1d44",
     "showTitle": false,
     "tableResultSettingsMap": {},
     "title": ""
    }
   },
   "outputs": [],
   "source": [
    "# Create a view or table\n",
    "\n",
    "netflix_df.createOrReplaceTempView(\"netflix\")\n",
    "hulu_df.createOrReplaceTempView(\"hulu\")\n",
    "disney_df.createOrReplaceTempView(\"disney\")\n",
    "amazon_df.createOrReplaceTempView(\"amazon\")\n",
    "criterion_df.createOrReplaceTempView(\"criterion\")\n"
   ]
  },
  {
   "cell_type": "code",
   "execution_count": 0,
   "metadata": {
    "application/vnd.databricks.v1+cell": {
     "cellMetadata": {
      "byteLimit": 2048000,
      "rowLimit": 10000
     },
     "inputWidgets": {},
     "nuid": "700de8f6-418f-455d-9095-51c6c8b68b0d",
     "showTitle": false,
     "tableResultSettingsMap": {},
     "title": ""
    }
   },
   "outputs": [
    {
     "output_type": "stream",
     "name": "stdout",
     "output_type": "stream",
     "text": [
      "+-------+-----+--------------------+--------------------+--------------------+--------------------+------------------+------------+------+--------+--------------------+--------------------+\n|show_id| type|               title|            director|                cast|             country|        date_added|release_year|rating|duration|           listed_in|         description|\n+-------+-----+--------------------+--------------------+--------------------+--------------------+------------------+------------+------+--------+--------------------+--------------------+\n|     s1|Movie|Dick Johnson Is Dead|     Kirsten Johnson|                null|       United States|September 25, 2021|        2020| PG-13|  90 min|       Documentaries|As her father nea...|\n|     s7|Movie|My Little Pony: A...|Robert Cullen, Jo...|Vanessa Hudgens, ...|                null|September 24, 2021|        2021|    PG|  91 min|Children & Family...|Equestria's divid...|\n|     s8|Movie|             Sankofa|        Haile Gerima|Kofi Ghanaba, Oya...|United States, Gh...|September 24, 2021|        1993| TV-MA| 125 min|Dramas, Independe...|On a photo shoot ...|\n|    s10|Movie|        The Starling|      Theodore Melfi|Melissa McCarthy,...|       United States|September 24, 2021|        2021| PG-13| 104 min|    Comedies, Dramas|A woman adjusting...|\n|    s13|Movie|        Je Suis Karl| Christian Schwochow|Luna Wedler, Jann...|Germany, Czech Re...|September 23, 2021|        2021| TV-MA| 127 min|Dramas, Internati...|After most of her...|\n|    s14|Movie|Confessions of an...|       Bruno Garotti|Klara Castanho, L...|                null|September 22, 2021|        2021| TV-PG|  91 min|Children & Family...|When the clever b...|\n|    s17|Movie|Europe's Most Dan...|Pedro de Echave G...|                null|                null|September 22, 2021|        2020| TV-MA|  67 min|Documentaries, In...|Declassified docu...|\n|    s19|Movie|           Intrusion|          Adam Salky|Freida Pinto, Log...|                null|September 22, 2021|        2021| TV-14|  94 min|           Thrillers|After a deadly ho...|\n|    s23|Movie|     Avvai Shanmughi|      K.S. Ravikumar|Kamal Hassan, Mee...|                null|September 21, 2021|        1996| TV-PG| 161 min|Comedies, Interna...|Newly divorced an...|\n|    s24|Movie|Go! Go! Cory Cars...|Alex Woo, Stanley...|Maisie Benson, Pa...|                null|September 21, 2021|        2021|  TV-Y|  61 min|Children & Family...|From arcade games...|\n+-------+-----+--------------------+--------------------+--------------------+--------------------+------------------+------------+------+--------+--------------------+--------------------+\nonly showing top 10 rows\n\n"
     ]
    }
   ],
   "source": [
    "netflix_movies = spark.sql(\"SELECT * FROM netflix n WHERE n.type = 'Movie'\")\n",
    "\n",
    "netflix_movies.show(10)"
   ]
  },
  {
   "cell_type": "code",
   "execution_count": 0,
   "metadata": {
    "application/vnd.databricks.v1+cell": {
     "cellMetadata": {
      "byteLimit": 2048000,
      "rowLimit": 10000
     },
     "inputWidgets": {},
     "nuid": "b8836925-148d-484f-af57-e1574fcebc7b",
     "showTitle": false,
     "tableResultSettingsMap": {},
     "title": ""
    }
   },
   "outputs": [
    {
     "output_type": "display_data",
     "data": {
      "text/html": [
       "<style scoped>\n",
       "  .table-result-container {\n",
       "    max-height: 300px;\n",
       "    overflow: auto;\n",
       "  }\n",
       "  table, th, td {\n",
       "    border: 1px solid black;\n",
       "    border-collapse: collapse;\n",
       "  }\n",
       "  th, td {\n",
       "    padding: 5px;\n",
       "  }\n",
       "  th {\n",
       "    text-align: left;\n",
       "  }\n",
       "</style><div class='table-result-container'><table class='table-result'><thead style='background-color: white'><tr><th>show_id</th><th>type</th><th>title</th><th>director</th><th>cast</th><th>country</th><th>date_added</th><th>release_year</th><th>rating</th><th>duration</th><th>listed_in</th><th>description</th></tr></thead><tbody><tr><td>s140</td><td>Movie</td><td>Do the Right Thing</td><td>Spike Lee</td><td>Danny Aiello, Ossie Davis, Ruby Dee, Richard Edson, Giancarlo Esposito, Spike Lee, Bill Nunn, John Turturro, Paul Benjamin, Frankie Faison, Samuel L. Jackson, Rosie Perez, Martin Lawrence, Miguel Sandoval</td><td>United States</td><td>September 1, 2021</td><td>1989</td><td>R</td><td>120 min</td><td>Classic Movies, Comedies, Dramas</td><td>On a sweltering day in Brooklyn, simmering racial tensions between residents rise to the surface and ignite rage, violence and tragedy.</td></tr><tr><td>s7709</td><td>Movie</td><td>Paris Is Burning</td><td>Jennie Livingston</td><td>null</td><td>United States</td><td>February 1, 2017</td><td>1990</td><td>R</td><td>77 min</td><td>Classic Movies, Cult Movies, Documentaries</td><td>This Sundance prize-winning documentary is an intimate portrait of 1980s Harlem drag balls: a world of fierce competition, sustenance, and survival.</td></tr><tr><td>s5571</td><td>Movie</td><td>Howards End</td><td>James Ivory</td><td>Anthony Hopkins, Vanessa Redgrave, Helena Bonham Carter, Emma Thompson, James Wilby, Samuel West, Jemma Redgrave, Joseph Bennett, Nicola Duffett, Susie Lindeman</td><td>United Kingdom, Japan, United States</td><td>March 16, 2017</td><td>1992</td><td>PG</td><td>143 min</td><td>Classic Movies, Dramas, Independent Movies</td><td>\"When a husband, acting in his family's \"\"best interest</td></tr><tr><td>s7194</td><td>Movie</td><td>Kicking and Screaming</td><td>Noah Baumbach</td><td>Josh Hamilton, Olivia d'Abo, Carlos Jacott, Chris Eigeman, Eric Stoltz, Jason Wiles, Parker Posey, Cara Buono, Elliott Gould, Samuel Gould</td><td>United States</td><td>November 4, 2019</td><td>1995</td><td>R</td><td>97 min</td><td>Comedies, Independent Movies, Romantic Movies</td><td>\"After graduating, four college roomies – petrified by the prospect of facing \"\"real life\"\" – reluctantly step into adulthood in this ensemble comedy.\"</td></tr><tr><td>s601</td><td>Movie</td><td>The Game</td><td>David Fincher</td><td>Michael Douglas, Sean Penn, Deborah Kara Unger, James Rebhorn, Peter Donat, Carroll Baker, Anna Katarina, Armin Mueller-Stahl</td><td>United States</td><td>July 1, 2021</td><td>1997</td><td>R</td><td>129 min</td><td>Thrillers</td><td>An aloof investment banker's life spirals into peril and paranoia after his brother gives him an odd birthday gift: the chance to play a mysterious game.</td></tr><tr><td>s6451</td><td>Movie</td><td>Chasing Amy</td><td>Kevin Smith</td><td>Ben Affleck, Joey Lauren Adams, Jason Lee, Dwight Ewell, Jason Mewes, Kevin Smith</td><td>United States</td><td>January 1, 2020</td><td>1997</td><td>R</td><td>113 min</td><td>Comedies, Cult Movies, Dramas</td><td>Comic book artist Holden meets the perfect woman, only to learn that she's a lesbian. But that doesn't stop him from falling in love with her.</td></tr><tr><td>s6744</td><td>Movie</td><td>Fear and Loathing in Las Vegas</td><td>Terry Gilliam</td><td>Johnny Depp, Benicio Del Toro, Tobey Maguire, Ellen Barkin, Gary Busey, Christina Ricci, Mark Harmon, Cameron Diaz, Katherine Helmond, Michael Jeter, Craig Bierko, Lyle Lovett, Flea, Christopher Meloni, Harry Dean Stanton, Tim Thomerson</td><td>United States</td><td>November 1, 2019</td><td>1998</td><td>R</td><td>118 min</td><td>Comedies, Cult Movies, Dramas</td><td>A sportswriter and his Samoan lawyer embark on a hallucinogenic three-day romp from Los Angeles to Las Vegas in this counterculture cult favorite.</td></tr><tr><td>s3477</td><td>Movie</td><td>The Squid and the Whale</td><td>Noah Baumbach</td><td>Jeff Daniels, Laura Linney, Jesse Eisenberg, Owen Kline, William Baldwin, Halley Feiffer, Anna Paquin, Ken Leung, David Benger, Adam Rose</td><td>United States</td><td>October 1, 2019</td><td>2005</td><td>R</td><td>81 min</td><td>Comedies, Dramas, Independent Movies</td><td>This insightful drama looks at the crumbling marriage between a self-centered novelist – whose career is waning – and his up-and-coming writer wife.</td></tr><tr><td>s6339</td><td>Movie</td><td>Blue Is the Warmest Color</td><td>Abdellatif Kechiche</td><td>Léa Seydoux, Adèle Exarchopoulos, Salim Kechiouche, Aurélien Recoing, Catherine Salée, Benjamin Siksou, Mona Walravens, Alma Jodorowsky, Jérémie Laheurte, Anne Loiret, Benoît Pilot, Sandor Funtek, Fanny Maurin</td><td>France, Belgium, Spain</td><td>August 26, 2016</td><td>2013</td><td>NC-17</td><td>180 min</td><td>Dramas, Independent Movies, International Movies</td><td>Determined to fall in love, 15-year-old Adele is focused on boys. But it's a blue-haired girl she meets on the street who really piques her interest.</td></tr><tr><td>s6503</td><td>Movie</td><td>Clouds of Sils Maria</td><td>Olivier Assayas</td><td>Juliette Binoche, Kristen Stewart, Chloë Grace Moretz, Lars Eidinger, Johnny Flynn, Angela Winkler, Hanns Zischler, Brady Corbet</td><td>France, Germany, Switzerland</td><td>February 12, 2017</td><td>2014</td><td>R</td><td>124 min</td><td>Dramas, International Movies</td><td>A middle-aged actress is cast in a film adaptation of the play that made her famous 20 years earlier, but in a much less glamorous role.</td></tr><tr><td>s7048</td><td>Movie</td><td>I, Daniel Blake</td><td>Ken Loach</td><td>Dave Johns, Hayley Squires, Briana Shann, Dylan McKiernan, Kate Rutter, Sharon Percy, Kema Sikazwe, Steven Richens</td><td>United Kingdom, France, Belgium</td><td>April 19, 2019</td><td>2016</td><td>R</td><td>100 min</td><td>Dramas, Independent Movies</td><td>While fighting for his welfare benefits following a job-ending heart attack, a widowed carpenter befriends a single mother in a similar plight.</td></tr><tr><td>s7731</td><td>Movie</td><td>Personal Shopper</td><td>Olivier Assayas</td><td>Kristen Stewart, Lars Eidinger, Sigrid Bouaziz, Anders Danielsen Lie, Ty Olwin, Hammou Graïa, Nora von Waldstätten, Benjamin Biolay, Audrey Bonnet, Pascal Rambert</td><td>France, Germany, Czech Republic, Belgium</td><td>February 1, 2019</td><td>2016</td><td>R</td><td>105 min</td><td>Dramas, International Movies, Thrillers</td><td>A psychic medium takes a job as personal shopper for a spoiled celebrity in order to contact the spirit of her brother, who owned her employer's home.</td></tr></tbody></table></div>"
      ]
     },
     "metadata": {
      "application/vnd.databricks.v1+output": {
       "addedWidgets": {},
       "aggData": [],
       "aggError": "",
       "aggOverflow": false,
       "aggSchema": [],
       "aggSeriesLimitReached": false,
       "aggType": "",
       "arguments": {},
       "columnCustomDisplayInfos": {},
       "data": [
        [
         "s140",
         "Movie",
         "Do the Right Thing",
         "Spike Lee",
         "Danny Aiello, Ossie Davis, Ruby Dee, Richard Edson, Giancarlo Esposito, Spike Lee, Bill Nunn, John Turturro, Paul Benjamin, Frankie Faison, Samuel L. Jackson, Rosie Perez, Martin Lawrence, Miguel Sandoval",
         "United States",
         "September 1, 2021",
         "1989",
         "R",
         "120 min",
         "Classic Movies, Comedies, Dramas",
         "On a sweltering day in Brooklyn, simmering racial tensions between residents rise to the surface and ignite rage, violence and tragedy."
        ],
        [
         "s7709",
         "Movie",
         "Paris Is Burning",
         "Jennie Livingston",
         null,
         "United States",
         "February 1, 2017",
         "1990",
         "R",
         "77 min",
         "Classic Movies, Cult Movies, Documentaries",
         "This Sundance prize-winning documentary is an intimate portrait of 1980s Harlem drag balls: a world of fierce competition, sustenance, and survival."
        ],
        [
         "s5571",
         "Movie",
         "Howards End",
         "James Ivory",
         "Anthony Hopkins, Vanessa Redgrave, Helena Bonham Carter, Emma Thompson, James Wilby, Samuel West, Jemma Redgrave, Joseph Bennett, Nicola Duffett, Susie Lindeman",
         "United Kingdom, Japan, United States",
         "March 16, 2017",
         "1992",
         "PG",
         "143 min",
         "Classic Movies, Dramas, Independent Movies",
         "\"When a husband, acting in his family's \"\"best interest"
        ],
        [
         "s7194",
         "Movie",
         "Kicking and Screaming",
         "Noah Baumbach",
         "Josh Hamilton, Olivia d'Abo, Carlos Jacott, Chris Eigeman, Eric Stoltz, Jason Wiles, Parker Posey, Cara Buono, Elliott Gould, Samuel Gould",
         "United States",
         "November 4, 2019",
         "1995",
         "R",
         "97 min",
         "Comedies, Independent Movies, Romantic Movies",
         "\"After graduating, four college roomies – petrified by the prospect of facing \"\"real life\"\" – reluctantly step into adulthood in this ensemble comedy.\""
        ],
        [
         "s601",
         "Movie",
         "The Game",
         "David Fincher",
         "Michael Douglas, Sean Penn, Deborah Kara Unger, James Rebhorn, Peter Donat, Carroll Baker, Anna Katarina, Armin Mueller-Stahl",
         "United States",
         "July 1, 2021",
         "1997",
         "R",
         "129 min",
         "Thrillers",
         "An aloof investment banker's life spirals into peril and paranoia after his brother gives him an odd birthday gift: the chance to play a mysterious game."
        ],
        [
         "s6451",
         "Movie",
         "Chasing Amy",
         "Kevin Smith",
         "Ben Affleck, Joey Lauren Adams, Jason Lee, Dwight Ewell, Jason Mewes, Kevin Smith",
         "United States",
         "January 1, 2020",
         "1997",
         "R",
         "113 min",
         "Comedies, Cult Movies, Dramas",
         "Comic book artist Holden meets the perfect woman, only to learn that she's a lesbian. But that doesn't stop him from falling in love with her."
        ],
        [
         "s6744",
         "Movie",
         "Fear and Loathing in Las Vegas",
         "Terry Gilliam",
         "Johnny Depp, Benicio Del Toro, Tobey Maguire, Ellen Barkin, Gary Busey, Christina Ricci, Mark Harmon, Cameron Diaz, Katherine Helmond, Michael Jeter, Craig Bierko, Lyle Lovett, Flea, Christopher Meloni, Harry Dean Stanton, Tim Thomerson",
         "United States",
         "November 1, 2019",
         "1998",
         "R",
         "118 min",
         "Comedies, Cult Movies, Dramas",
         "A sportswriter and his Samoan lawyer embark on a hallucinogenic three-day romp from Los Angeles to Las Vegas in this counterculture cult favorite."
        ],
        [
         "s3477",
         "Movie",
         "The Squid and the Whale",
         "Noah Baumbach",
         "Jeff Daniels, Laura Linney, Jesse Eisenberg, Owen Kline, William Baldwin, Halley Feiffer, Anna Paquin, Ken Leung, David Benger, Adam Rose",
         "United States",
         "October 1, 2019",
         "2005",
         "R",
         "81 min",
         "Comedies, Dramas, Independent Movies",
         "This insightful drama looks at the crumbling marriage between a self-centered novelist – whose career is waning – and his up-and-coming writer wife."
        ],
        [
         "s6339",
         "Movie",
         "Blue Is the Warmest Color",
         "Abdellatif Kechiche",
         "Léa Seydoux, Adèle Exarchopoulos, Salim Kechiouche, Aurélien Recoing, Catherine Salée, Benjamin Siksou, Mona Walravens, Alma Jodorowsky, Jérémie Laheurte, Anne Loiret, Benoît Pilot, Sandor Funtek, Fanny Maurin",
         "France, Belgium, Spain",
         "August 26, 2016",
         "2013",
         "NC-17",
         "180 min",
         "Dramas, Independent Movies, International Movies",
         "Determined to fall in love, 15-year-old Adele is focused on boys. But it's a blue-haired girl she meets on the street who really piques her interest."
        ],
        [
         "s6503",
         "Movie",
         "Clouds of Sils Maria",
         "Olivier Assayas",
         "Juliette Binoche, Kristen Stewart, Chloë Grace Moretz, Lars Eidinger, Johnny Flynn, Angela Winkler, Hanns Zischler, Brady Corbet",
         "France, Germany, Switzerland",
         "February 12, 2017",
         "2014",
         "R",
         "124 min",
         "Dramas, International Movies",
         "A middle-aged actress is cast in a film adaptation of the play that made her famous 20 years earlier, but in a much less glamorous role."
        ],
        [
         "s7048",
         "Movie",
         "I, Daniel Blake",
         "Ken Loach",
         "Dave Johns, Hayley Squires, Briana Shann, Dylan McKiernan, Kate Rutter, Sharon Percy, Kema Sikazwe, Steven Richens",
         "United Kingdom, France, Belgium",
         "April 19, 2019",
         "2016",
         "R",
         "100 min",
         "Dramas, Independent Movies",
         "While fighting for his welfare benefits following a job-ending heart attack, a widowed carpenter befriends a single mother in a similar plight."
        ],
        [
         "s7731",
         "Movie",
         "Personal Shopper",
         "Olivier Assayas",
         "Kristen Stewart, Lars Eidinger, Sigrid Bouaziz, Anders Danielsen Lie, Ty Olwin, Hammou Graïa, Nora von Waldstätten, Benjamin Biolay, Audrey Bonnet, Pascal Rambert",
         "France, Germany, Czech Republic, Belgium",
         "February 1, 2019",
         "2016",
         "R",
         "105 min",
         "Dramas, International Movies, Thrillers",
         "A psychic medium takes a job as personal shopper for a spoiled celebrity in order to contact the spirit of her brother, who owned her employer's home."
        ]
       ],
       "datasetInfos": [],
       "dbfsResultPath": null,
       "isJsonSchema": true,
       "metadata": {},
       "overflow": false,
       "plotOptions": {
        "customPlotOptions": {},
        "displayType": "table",
        "pivotAggregation": null,
        "pivotColumns": null,
        "xColumns": null,
        "yColumns": null
       },
       "removedWidgets": [],
       "schema": [
        {
         "metadata": "{}",
         "name": "show_id",
         "type": "\"string\""
        },
        {
         "metadata": "{}",
         "name": "type",
         "type": "\"string\""
        },
        {
         "metadata": "{}",
         "name": "title",
         "type": "\"string\""
        },
        {
         "metadata": "{}",
         "name": "director",
         "type": "\"string\""
        },
        {
         "metadata": "{}",
         "name": "cast",
         "type": "\"string\""
        },
        {
         "metadata": "{}",
         "name": "country",
         "type": "\"string\""
        },
        {
         "metadata": "{}",
         "name": "date_added",
         "type": "\"string\""
        },
        {
         "metadata": "{}",
         "name": "release_year",
         "type": "\"string\""
        },
        {
         "metadata": "{}",
         "name": "rating",
         "type": "\"string\""
        },
        {
         "metadata": "{}",
         "name": "duration",
         "type": "\"string\""
        },
        {
         "metadata": "{}",
         "name": "listed_in",
         "type": "\"string\""
        },
        {
         "metadata": "{}",
         "name": "description",
         "type": "\"string\""
        }
       ],
       "type": "table"
      }
     },
     "output_type": "display_data"
    }
   ],
   "source": [
    "netflix_criterion = spark.sql(\"SELECT m.* FROM netflix m INNER JOIN criterion c on m.title = c.title and m.release_year = c.year ORDER BY m.release_year\")\n",
    "display(netflix_criterion)"
   ]
  },
  {
   "cell_type": "code",
   "execution_count": 0,
   "metadata": {
    "application/vnd.databricks.v1+cell": {
     "cellMetadata": {
      "byteLimit": 2048000,
      "rowLimit": 10000
     },
     "inputWidgets": {},
     "nuid": "d58c2193-aa90-4411-ba3a-3720f55552fb",
     "showTitle": false,
     "tableResultSettingsMap": {},
     "title": ""
    }
   },
   "outputs": [
    {
     "output_type": "display_data",
     "data": {
      "text/html": [
       "<style scoped>\n",
       "  .table-result-container {\n",
       "    max-height: 300px;\n",
       "    overflow: auto;\n",
       "  }\n",
       "  table, th, td {\n",
       "    border: 1px solid black;\n",
       "    border-collapse: collapse;\n",
       "  }\n",
       "  th, td {\n",
       "    padding: 5px;\n",
       "  }\n",
       "  th {\n",
       "    text-align: left;\n",
       "  }\n",
       "</style><div class='table-result-container'><table class='table-result'><thead style='background-color: white'><tr><th>show_id</th><th>type</th><th>title</th><th>director</th><th>cast</th><th>country</th><th>date_added</th><th>release_year</th><th>rating</th><th>duration</th><th>listed_in</th><th>description</th></tr></thead><tbody><tr><td>s2714</td><td>Movie</td><td>The Furies</td><td>null</td><td>null</td><td>United States</td><td>July 1, 2017</td><td>1950</td><td>109 min</td><td>null</td><td>Action, Adventure, Classics</td><td>Western depicting the clash between a self-made cattle king of the Old West and his equally iron-willed daughter. Based on Niven Busch's novel.</td></tr><tr><td>s2478</td><td>Movie</td><td>Night of the Living Dead</td><td>null</td><td>null</td><td>null</td><td>June 4, 2018</td><td>1968</td><td>TV-MA</td><td>86 min</td><td>Classics, Horror, Thriller</td><td>A group of people hide from bloodthirsty zombies in a farmhouse.</td></tr><tr><td>s102</td><td>Movie</td><td>House of Games</td><td>null</td><td>null</td><td>null</td><td>October 1, 2021</td><td>1987</td><td>R</td><td>102 min</td><td>Thriller</td><td>An uptight female psychiatrist (and best-selling author) attempts to intercede with a con man on behalf of one of her patients, a compulsive gambler who owes him several thousand dollars.</td></tr><tr><td>s116</td><td>Movie</td><td>Rushmore</td><td>null</td><td>null</td><td>null</td><td>October 1, 2021</td><td>1998</td><td>R</td><td>93 min</td><td>Comedy, Teen</td><td>An overachieving prep-school youth wages war for the affections of a pretty teacher in this Wes Anderson comedy.</td></tr><tr><td>s417</td><td>Movie</td><td>The Thin Red Line</td><td>null</td><td>null</td><td>null</td><td>August 1, 2021</td><td>1998</td><td>R</td><td>170 min</td><td>Drama, History</td><td>In 1942, Private Witt (Jim Caviezel) is a U.S. Army absconder living peacefully with the locals of a small South Pacific island. Discovered by his commanding officer, Sgt. Welsh (Sean Penn), Witt is forced to resume his active duty training for the Battle of Guadalcanal. As Witt and his unit land on the island, and the American troops mount an assault on entrenched Japanese positions, the story explores their various fates and attitudes towards life-or-death situations.</td></tr><tr><td>s270</td><td>Movie</td><td>Election</td><td>null</td><td>null</td><td>null</td><td>September 1, 2021</td><td>1999</td><td>R</td><td>103 min</td><td>Comedy</td><td>\"Tracy Flick, a straight \"\"A\"\" go-getter who's determined to be president of Carver High's student body. But when popular teacher Jim McAllister observes the zealous political locomotive</td></tr><tr><td>s1443</td><td>Movie</td><td>Before Midnight</td><td>null</td><td>null</td><td>null</td><td>August 14, 2020</td><td>2013</td><td>R</td><td>109 min</td><td>Drama, Romance</td><td>On an idyllic Greek vacation, longtime couple Jesse and Celine reminisce about their lives together - and what different choices might have brought since their first meeting nearly 20 years earlier.</td></tr><tr><td>s524</td><td>Movie</td><td>Graduation</td><td>null</td><td>null</td><td>null</td><td>July 1, 2021</td><td>2016</td><td>R</td><td>127 min</td><td>Crime, Drama, International</td><td>Acclaimed filmmaker Cristian Mungiu returns with this searing human saga about a father driven to extremes in order to protect his daughter's future. Winner Best Director, Cannes</td></tr><tr><td>s536</td><td>Movie</td><td>Personal Shopper</td><td>null</td><td>null</td><td>null</td><td>July 1, 2021</td><td>2016</td><td>R</td><td>105 min</td><td>Drama, Horror, Mystery</td><td>A young psychic is plunged into a dangerous game of cat and mouse when she makes contact with a sinister spirit. Kristen Stewart stars in this seductive thriller.</td></tr><tr><td>s2368</td><td>Movie</td><td>Let the Sunshine In</td><td>null</td><td>null</td><td>France, Belgium</td><td>October 24, 2018</td><td>2017</td><td>95 min</td><td>null</td><td>Comedy, Drama, International</td><td>Juliette Binoche and Gerard Depardieu star in this charming romantic comedy about a woman looking for love in all the wrong places.</td></tr></tbody></table></div>"
      ]
     },
     "metadata": {
      "application/vnd.databricks.v1+output": {
       "addedWidgets": {},
       "aggData": [],
       "aggError": "",
       "aggOverflow": false,
       "aggSchema": [],
       "aggSeriesLimitReached": false,
       "aggType": "",
       "arguments": {},
       "columnCustomDisplayInfos": {},
       "data": [
        [
         "s2714",
         "Movie",
         "The Furies",
         null,
         null,
         "United States",
         "July 1, 2017",
         "1950",
         "109 min",
         null,
         "Action, Adventure, Classics",
         "Western depicting the clash between a self-made cattle king of the Old West and his equally iron-willed daughter. Based on Niven Busch's novel."
        ],
        [
         "s2478",
         "Movie",
         "Night of the Living Dead",
         null,
         null,
         null,
         "June 4, 2018",
         "1968",
         "TV-MA",
         "86 min",
         "Classics, Horror, Thriller",
         "A group of people hide from bloodthirsty zombies in a farmhouse."
        ],
        [
         "s102",
         "Movie",
         "House of Games",
         null,
         null,
         null,
         "October 1, 2021",
         "1987",
         "R",
         "102 min",
         "Thriller",
         "An uptight female psychiatrist (and best-selling author) attempts to intercede with a con man on behalf of one of her patients, a compulsive gambler who owes him several thousand dollars."
        ],
        [
         "s116",
         "Movie",
         "Rushmore",
         null,
         null,
         null,
         "October 1, 2021",
         "1998",
         "R",
         "93 min",
         "Comedy, Teen",
         "An overachieving prep-school youth wages war for the affections of a pretty teacher in this Wes Anderson comedy."
        ],
        [
         "s417",
         "Movie",
         "The Thin Red Line",
         null,
         null,
         null,
         "August 1, 2021",
         "1998",
         "R",
         "170 min",
         "Drama, History",
         "In 1942, Private Witt (Jim Caviezel) is a U.S. Army absconder living peacefully with the locals of a small South Pacific island. Discovered by his commanding officer, Sgt. Welsh (Sean Penn), Witt is forced to resume his active duty training for the Battle of Guadalcanal. As Witt and his unit land on the island, and the American troops mount an assault on entrenched Japanese positions, the story explores their various fates and attitudes towards life-or-death situations."
        ],
        [
         "s270",
         "Movie",
         "Election",
         null,
         null,
         null,
         "September 1, 2021",
         "1999",
         "R",
         "103 min",
         "Comedy",
         "\"Tracy Flick, a straight \"\"A\"\" go-getter who's determined to be president of Carver High's student body. But when popular teacher Jim McAllister observes the zealous political locomotive"
        ],
        [
         "s1443",
         "Movie",
         "Before Midnight",
         null,
         null,
         null,
         "August 14, 2020",
         "2013",
         "R",
         "109 min",
         "Drama, Romance",
         "On an idyllic Greek vacation, longtime couple Jesse and Celine reminisce about their lives together - and what different choices might have brought since their first meeting nearly 20 years earlier."
        ],
        [
         "s524",
         "Movie",
         "Graduation",
         null,
         null,
         null,
         "July 1, 2021",
         "2016",
         "R",
         "127 min",
         "Crime, Drama, International",
         "Acclaimed filmmaker Cristian Mungiu returns with this searing human saga about a father driven to extremes in order to protect his daughter's future. Winner Best Director, Cannes"
        ],
        [
         "s536",
         "Movie",
         "Personal Shopper",
         null,
         null,
         null,
         "July 1, 2021",
         "2016",
         "R",
         "105 min",
         "Drama, Horror, Mystery",
         "A young psychic is plunged into a dangerous game of cat and mouse when she makes contact with a sinister spirit. Kristen Stewart stars in this seductive thriller."
        ],
        [
         "s2368",
         "Movie",
         "Let the Sunshine In",
         null,
         null,
         "France, Belgium",
         "October 24, 2018",
         "2017",
         "95 min",
         null,
         "Comedy, Drama, International",
         "Juliette Binoche and Gerard Depardieu star in this charming romantic comedy about a woman looking for love in all the wrong places."
        ]
       ],
       "datasetInfos": [],
       "dbfsResultPath": null,
       "isJsonSchema": true,
       "metadata": {},
       "overflow": false,
       "plotOptions": {
        "customPlotOptions": {},
        "displayType": "table",
        "pivotAggregation": null,
        "pivotColumns": null,
        "xColumns": null,
        "yColumns": null
       },
       "removedWidgets": [],
       "schema": [
        {
         "metadata": "{}",
         "name": "show_id",
         "type": "\"string\""
        },
        {
         "metadata": "{}",
         "name": "type",
         "type": "\"string\""
        },
        {
         "metadata": "{}",
         "name": "title",
         "type": "\"string\""
        },
        {
         "metadata": "{}",
         "name": "director",
         "type": "\"string\""
        },
        {
         "metadata": "{}",
         "name": "cast",
         "type": "\"string\""
        },
        {
         "metadata": "{}",
         "name": "country",
         "type": "\"string\""
        },
        {
         "metadata": "{}",
         "name": "date_added",
         "type": "\"string\""
        },
        {
         "metadata": "{}",
         "name": "release_year",
         "type": "\"string\""
        },
        {
         "metadata": "{}",
         "name": "rating",
         "type": "\"string\""
        },
        {
         "metadata": "{}",
         "name": "duration",
         "type": "\"string\""
        },
        {
         "metadata": "{}",
         "name": "listed_in",
         "type": "\"string\""
        },
        {
         "metadata": "{}",
         "name": "description",
         "type": "\"string\""
        }
       ],
       "type": "table"
      }
     },
     "output_type": "display_data"
    }
   ],
   "source": [
    "hulu_criterion = spark.sql(\"SELECT m.* FROM hulu m INNER JOIN criterion c on m.title = c.title and m.release_year = c.year ORDER BY m.release_year\")\n",
    "display(hulu_criterion)"
   ]
  },
  {
   "cell_type": "code",
   "execution_count": 0,
   "metadata": {
    "application/vnd.databricks.v1+cell": {
     "cellMetadata": {
      "byteLimit": 2048000,
      "rowLimit": 10000
     },
     "inputWidgets": {},
     "nuid": "78b9390e-25ae-4620-9fe4-adf06c6219ab",
     "showTitle": false,
     "tableResultSettingsMap": {},
     "title": ""
    }
   },
   "outputs": [
    {
     "output_type": "display_data",
     "data": {
      "text/html": [
       "<style scoped>\n",
       "  .table-result-container {\n",
       "    max-height: 300px;\n",
       "    overflow: auto;\n",
       "  }\n",
       "  table, th, td {\n",
       "    border: 1px solid black;\n",
       "    border-collapse: collapse;\n",
       "  }\n",
       "  th, td {\n",
       "    padding: 5px;\n",
       "  }\n",
       "  th {\n",
       "    text-align: left;\n",
       "  }\n",
       "</style><div class='table-result-container'><table class='table-result'><thead style='background-color: white'><tr><th>show_id</th><th>type</th><th>title</th><th>director</th><th>cast</th><th>country</th><th>date_added</th><th>release_year</th><th>rating</th><th>duration</th><th>listed_in</th><th>description</th></tr></thead><tbody><tr><td>s548</td><td>Movie</td><td>The Princess Bride</td><td>Rob Reiner</td><td>Cary Elwes, Mandy Patinkin, Chris Sarandon, Christopher Guest, Wallace Shawn, Andre the Giant</td><td>United Kingdom, United States</td><td>May 1, 2020</td><td>1987</td><td>PG</td><td>99 min</td><td>Action-Adventure, Comedy, Family</td><td>A man regales his ailing grandson with a tale of romance and adventure in a lighthearted fairy tale.</td></tr><tr><td>s523</td><td>Movie</td><td>Fantastic Mr. Fox</td><td>Wes Anderson</td><td>George Clooney, Meryl Streep, Jason Schwartzman, Bill Murray, Wally Wolodarsky, Eric Anderson</td><td>United States, United Kingdom</td><td>May 22, 2020</td><td>2009</td><td>PG</td><td>88 min</td><td>Animation, Comedy, Crime</td><td>Mr. Fox lives a happy life until he plots the greatest chicken heist the world has ever seen.</td></tr></tbody></table></div>"
      ]
     },
     "metadata": {
      "application/vnd.databricks.v1+output": {
       "addedWidgets": {},
       "aggData": [],
       "aggError": "",
       "aggOverflow": false,
       "aggSchema": [],
       "aggSeriesLimitReached": false,
       "aggType": "",
       "arguments": {},
       "columnCustomDisplayInfos": {},
       "data": [
        [
         "s548",
         "Movie",
         "The Princess Bride",
         "Rob Reiner",
         "Cary Elwes, Mandy Patinkin, Chris Sarandon, Christopher Guest, Wallace Shawn, Andre the Giant",
         "United Kingdom, United States",
         "May 1, 2020",
         "1987",
         "PG",
         "99 min",
         "Action-Adventure, Comedy, Family",
         "A man regales his ailing grandson with a tale of romance and adventure in a lighthearted fairy tale."
        ],
        [
         "s523",
         "Movie",
         "Fantastic Mr. Fox",
         "Wes Anderson",
         "George Clooney, Meryl Streep, Jason Schwartzman, Bill Murray, Wally Wolodarsky, Eric Anderson",
         "United States, United Kingdom",
         "May 22, 2020",
         "2009",
         "PG",
         "88 min",
         "Animation, Comedy, Crime",
         "Mr. Fox lives a happy life until he plots the greatest chicken heist the world has ever seen."
        ]
       ],
       "datasetInfos": [],
       "dbfsResultPath": null,
       "isJsonSchema": true,
       "metadata": {},
       "overflow": false,
       "plotOptions": {
        "customPlotOptions": {},
        "displayType": "table",
        "pivotAggregation": null,
        "pivotColumns": null,
        "xColumns": null,
        "yColumns": null
       },
       "removedWidgets": [],
       "schema": [
        {
         "metadata": "{}",
         "name": "show_id",
         "type": "\"string\""
        },
        {
         "metadata": "{}",
         "name": "type",
         "type": "\"string\""
        },
        {
         "metadata": "{}",
         "name": "title",
         "type": "\"string\""
        },
        {
         "metadata": "{}",
         "name": "director",
         "type": "\"string\""
        },
        {
         "metadata": "{}",
         "name": "cast",
         "type": "\"string\""
        },
        {
         "metadata": "{}",
         "name": "country",
         "type": "\"string\""
        },
        {
         "metadata": "{}",
         "name": "date_added",
         "type": "\"string\""
        },
        {
         "metadata": "{}",
         "name": "release_year",
         "type": "\"string\""
        },
        {
         "metadata": "{}",
         "name": "rating",
         "type": "\"string\""
        },
        {
         "metadata": "{}",
         "name": "duration",
         "type": "\"string\""
        },
        {
         "metadata": "{}",
         "name": "listed_in",
         "type": "\"string\""
        },
        {
         "metadata": "{}",
         "name": "description",
         "type": "\"string\""
        }
       ],
       "type": "table"
      }
     },
     "output_type": "display_data"
    }
   ],
   "source": [
    "disney_criterion = spark.sql(\"SELECT m.* FROM disney m INNER JOIN criterion c on m.title = c.title and m.release_year = c.year ORDER BY m.release_year\")\n",
    "display(disney_criterion)"
   ]
  },
  {
   "cell_type": "code",
   "execution_count": 0,
   "metadata": {
    "application/vnd.databricks.v1+cell": {
     "cellMetadata": {
      "byteLimit": 2048000,
      "rowLimit": 10000
     },
     "inputWidgets": {},
     "nuid": "16e042dc-2703-4cb0-924c-6e66b88de450",
     "showTitle": false,
     "tableResultSettingsMap": {},
     "title": ""
    }
   },
   "outputs": [
    {
     "output_type": "display_data",
     "data": {
      "text/html": [
       "<style scoped>\n",
       "  .table-result-container {\n",
       "    max-height: 300px;\n",
       "    overflow: auto;\n",
       "  }\n",
       "  table, th, td {\n",
       "    border: 1px solid black;\n",
       "    border-collapse: collapse;\n",
       "  }\n",
       "  th, td {\n",
       "    padding: 5px;\n",
       "  }\n",
       "  th {\n",
       "    text-align: left;\n",
       "  }\n",
       "</style><div class='table-result-container'><table class='table-result'><thead style='background-color: white'><tr><th>show_id</th><th>type</th><th>title</th><th>director</th><th>cast</th><th>country</th><th>date_added</th><th>release_year</th><th>rating</th><th>duration</th><th>listed_in</th><th>description</th></tr></thead><tbody><tr><td>s6515</td><td>Movie</td><td>The Most Dangerous Game</td><td>Ernest B. Schoedsack, Irving Pichel</td><td>Joel McCrea, Fay Wray, Robert Armstrong, Leslie Banks</td><td>null</td><td>null</td><td>1932</td><td>13+</td><td>62 min</td><td>Action</td><td>A psychotic big game hunter, Zaroff (Leslie Banks) deliberately strands the survivor, Robert Rainsford (Joel McCrae), of a luxury yacht on a remote island. It is here Zaroff begins to hunt Rainsford and a companion, Eve Trowbridge (Fay Wray), for sport.</td></tr><tr><td>s1548</td><td>Movie</td><td>My Man Godfrey</td><td>Gregory Lacava</td><td>Carole Lombard, William Powell</td><td>null</td><td>null</td><td>1936</td><td>7+</td><td>93 min</td><td>Comedy</td><td>\"Nominated for 4 Academy Awards! A wealthy New York family in the 1930's brings in a destitute and \"\"Forgotten Man\"\" as their butler. Expertly restored original black and white.\"</td></tr><tr><td>s6642</td><td>Movie</td><td>His Girl Friday</td><td>Howard Hawks</td><td>Cary Grant, Rosalind Russell, Ralph Bellamy, Gene Lockhart, Porter Hall</td><td>null</td><td>null</td><td>1940</td><td>16+</td><td>92 min</td><td>Comedy, Drama, Romance</td><td>A newspaper editor uses every trick in the book to keep his ace reporter ex-wife from remarrying.</td></tr><tr><td>s6652</td><td>Movie</td><td>Detour</td><td>Edgar G. Ulmer</td><td>Tom Neal, Ann Savage, Edmund MacDonald, Claudia Drake</td><td>null</td><td>null</td><td>1945</td><td>13+</td><td>68 min</td><td>Drama</td><td>A nightclub pianist (Tom Neal) hitchhikes to join his girl in LA. When the sleazy gambler he's riding with mysteriously dies; he takes the man's identity. But thanks to a blackmailing dame (Ann Savage) his every move plunges him deeper into trouble.</td></tr><tr><td>s9186</td><td>Movie</td><td>Hamlet</td><td>Laurence Olivier</td><td>Laurence Olivier, John Laurie, Jean Simmons, Esmond Knight, Anthony Quayle</td><td>null</td><td>null</td><td>1948</td><td>13+</td><td>154 min</td><td>Drama</td><td>Laurence Olivier directs himself in this classic rendition of William Shakespeare's tale of the brooding Danish prince who decides to exact revenge on his uncle for the murder of his father.</td></tr><tr><td>s2124</td><td>Movie</td><td>In a Lonely Place</td><td>Nicholas Ray</td><td>Humphrey Bogart, Gloria Grahame, Frank Lovejoy, Carl Benton Reid, Art Smith, Jeff Donnell, Martha Stewart, John Mitchum, James Arness, Billy Gray</td><td>null</td><td>null</td><td>1950</td><td>13+</td><td>93 min</td><td>Drama, Suspense</td><td>A potentially violent screenwriter (Humphrey Bogart) is a murder suspect until his lovely neighbor clears him. However, she soon starts to have her doubts.</td></tr><tr><td>s4960</td><td>Movie</td><td>Aparajito</td><td>Satyajit Ray</td><td>Karuna Banerjee, Santi Gupta, Rani Bala, Keya Sengupta, Kanu Banerjee, Ajay Mitra</td><td>null</td><td>null</td><td>1956</td><td>ALL</td><td>100 min</td><td>Drama</td><td>After the death of his father, Apu leaves his mother and goes to Kolkata to study. His mother falls sick but she doesn't let the news get to him, because it would affect his academics.</td></tr><tr><td>s6098</td><td>Movie</td><td>Charade</td><td>Stanley Donen</td><td>Cary Grant, Audrey Hepburn, Walter Matthau, James Coburn, George Kennedy</td><td>null</td><td>null</td><td>1963</td><td>16+</td><td>113 min</td><td>Comedy</td><td>In Paris, romance and suspense ensue as a woman is pursued by several men who want a fortune her murdered husband had stolen. Whom can she trust?</td></tr><tr><td>s6148</td><td>Movie</td><td>The Naked Kiss</td><td>Samuel Fuller</td><td>Constance Towers, Anthony Eisley, Michael Dante, Virginia Grey, Patsy Kelly</td><td>null</td><td>null</td><td>1964</td><td>16+</td><td>91 min</td><td>Drama</td><td>Kelly's path towards happiness is thrown amiss when she witnesses a shocking event, which threatens not just her happiness, but her mental health as well.</td></tr><tr><td>s9073</td><td>Movie</td><td>The Graduate</td><td>Mike Nichols</td><td>Dustin Hoffman, Anne Bancroft, Katharine Ross, Norman Fell, William Daniels, Murray Hamilton, Elizabeth Wilson, Brian Avery, Walter Brooke</td><td>null</td><td>null</td><td>1967</td><td>PG</td><td>106 min</td><td>Comedy, Drama</td><td>Hollywood darlings Dustin Hoffman, Anne Bancroft and Katharine Ross create one outrageous love triangle in this groundbreaking American film classic.</td></tr><tr><td>s2249</td><td>Movie</td><td>Harold and Maude</td><td>Hal Ashby</td><td>Ruth Gordon, Bud Cort, Tom Skerritt</td><td>United States</td><td>null</td><td>1971</td><td>PG</td><td>92 min</td><td>Comedy, Drama</td><td>Harold is young, rich and obsessed with death. Maude is a lovable a fun-loving 80-year-old eccentric. When the two meet at a funeral and develop a deep bond, they must reconcile their disparate beliefs about the meaning life.</td></tr><tr><td>s8180</td><td>Movie</td><td>The Discreet Charm of the Bourgeoisie</td><td>Luis Buñuel</td><td>Fernando Rey, Delphine Seyrig, Stéphane Audran, Jean-Pierre Cassel, Paul Frankeur, Bulle Ogier</td><td>null</td><td>null</td><td>1972</td><td>ALL</td><td>102 min</td><td>Comedy, Drama, Science Fiction</td><td>In Luis Bunuel's satiric, Oscar-winning masterpiece, an upper-class sextet sits down to dinner but never eats, their attempts continually thwarted by a vaudevillian mixture of events both actual and imagined.</td></tr><tr><td>s3734</td><td>Movie</td><td>The Man Who Fell to Earth</td><td>Nicolas Roeg</td><td>David Bowie, Rip Torn, Candy Clark, Buck Henry, Bernie Casey, Jackson D. Kane, Rick Riccardo, Tony Mascia, Linda Hutton</td><td>null</td><td>null</td><td>1976</td><td>R</td><td>139 min</td><td>Drama, Fantasy, Science Fiction</td><td>Thomas Jerome Newton (David Bowie) is a humanoid alien who comes to Earth to get water for his dying planet. He starts a high technology company to get the billions of dollars he needs to build a return spacecraft.</td></tr><tr><td>s9624</td><td>Movie</td><td>The Princess Bride</td><td>Rob Reiner</td><td>Cary Elwes, Mandy Patinkin, Chris Sarandon, Christopher Guest, Wallace Shawn, André the Giant, Fred Savage, Robin Wright Penn, Peter Falk, Peter Cook, Mel Smith, Carol Kane, Billy Crystal, Anne Dyson, Margery Mason, Malcolm Storry, Willoughby Gray, Betsy Brantley, Paul Badger, Sallie McLaughlin</td><td>null</td><td>null</td><td>1987</td><td>PG</td><td>98 min</td><td>Action, Kids, Science Fiction</td><td>Based on William Goldman's novel of the same name, The Princess Bride is staged as a book read by grandfather (Peter Falk) to his ill grandson (Fred Savage). Falk's character assures a romance-weary Savage that the book has much more to deliver than a simpering love story, including but not limited to fencing, fighting, torture, death, true love, giants, and pirates.</td></tr><tr><td>s7819</td><td>Movie</td><td>Dead Ringers</td><td>David Cronenberg</td><td>Jeremy Irons, Geneviève Bujold, Heidi von Palleske, Barbara Gordon</td><td>null</td><td>null</td><td>1988</td><td>R</td><td>115 min</td><td>Drama, Horror, Suspense</td><td>Twin gynecologists take full advantage of the fact that nobody can tell them apart, until their relationship begins to deteriorate over a woman.</td></tr><tr><td>s8320</td><td>Movie</td><td>Do the Right Thing</td><td>Spike Lee</td><td>Danny Aiello, Ossie Davis, Ruby Dee, Richard Edson, Giancarlo Esposito, Spike Lee, Bill Nunn, John Turturro, Rosie Perez, Paul Benjamin, Frankie R. Faison, Robin Harris, Joie Lee, Samuel L. Jackson, Roger Guenveur Smith, John Savage</td><td>null</td><td>null</td><td>1989</td><td>R</td><td>121 min</td><td>Comedy, Drama</td><td>Director Spike Lee's seminal exploration of race and violence takes place in a Brooklyn neighborhood anchored by Sal's Pizzeria - where the heat of summer is boiling over! Biting humor and riveting drama.</td></tr><tr><td>s8162</td><td>Movie</td><td>Armageddon</td><td>Michael Bay</td><td>Bruce Willis, Billy Thornton, Liv Tyler, Ben Affleck, Will Patton, Peter Stormare, Keith David</td><td>United States</td><td>null</td><td>1998</td><td>PG-13</td><td>151 min</td><td>Action, Adventure</td><td>A large asteroid is heading directly toward Earth.</td></tr><tr><td>s8608</td><td>Movie</td><td>All About My Mother</td><td>Pedro Almodovar</td><td>Marisa Peredes, Penelope Cruz, Candela Pena, Cecilia Roth, Rosa Maria Sarda, Antonia San Juan</td><td>null</td><td>null</td><td>1999</td><td>R</td><td>101 min</td><td>Drama, International</td><td>Pedro Almodovar's Oscar(r)-winning comedy (Best Foreign Film, 1999) about a bereaved mother, an overwrought actress, her jealous lover and a pregnant nun.</td></tr><tr><td>s9068</td><td>Movie</td><td>The Life Aquatic with Steve Zissou</td><td>Wes Anderson</td><td>Bill Murray, Owen Wilson, Cate Blanchett, Anjelica Huston, Willen Dafoe, Jeff Goldblum, Michael Gambon, Bud Cort</td><td>null</td><td>null</td><td>2004</td><td>R</td><td>119 min</td><td>Action, Adventure, Comedy</td><td>An oceanographer sets out after the shark that killed his partner.</td></tr><tr><td>s7296</td><td>Movie</td><td>The Squid and the Whale</td><td>Noah Baumbach</td><td>Jeff Daniels, Laura Linney, Jesse Eisenberg, Owen Kline, William Baldwin, Anna Paquin, Alexandra Daddario</td><td>null</td><td>null</td><td>2005</td><td>R</td><td>81 min</td><td>Arthouse, Comedy, Drama</td><td>In his third feature, director Noah Baumbach scores a triumph with an autobiographical coming-of-age story about a teenager whose writer-parents are divorcing. The father (Jeff Daniels) and mother (Laura Linney) duke it out in half-civilized, half-savage fashion, while their two sons (Jesse Eisenberg and Owen Kline) adapt in different ways, shifting allegiances between parents.</td></tr><tr><td>s2100</td><td>Movie</td><td>Inside Llewyn Davis</td><td>Ethan Coen, Joel Coen</td><td>Justin Timberlake, Carey Mulligan, Adam Driver, John Goodman, Garrett Hedlund, Alex Karpovsky, Oscar Isaac, F. Murray Abraham, Stark Sands, Jeanine Serralles</td><td>null</td><td>null</td><td>2013</td><td>R</td><td>105 min</td><td>Drama</td><td>An aspiring singer-songwriter navigates the 1960s folk-music scene in New York City's Greenwich Village.</td></tr><tr><td>s4158</td><td>Movie</td><td>Cold War</td><td>Pawel Pawlikowski</td><td>Joanna Kulig, Tomasz Kot, Borys Szyc, Agata Kulesza, Jeanne Balibar, Cédric Kahn</td><td>null</td><td>null</td><td>2018</td><td>R</td><td>89 min</td><td>Arthouse, Drama</td><td>Included with your Prime membership. Nominated for 3 Academy Awards including Best Director, comes a passionate love story between two people of different backgrounds, who are fatefully mismatched and yet condemned to each other. Set against the background of the Cold War in the 1950s, the film depicts an impossible love story in impossible times.</td></tr></tbody></table></div>"
      ]
     },
     "metadata": {
      "application/vnd.databricks.v1+output": {
       "addedWidgets": {},
       "aggData": [],
       "aggError": "",
       "aggOverflow": false,
       "aggSchema": [],
       "aggSeriesLimitReached": false,
       "aggType": "",
       "arguments": {},
       "columnCustomDisplayInfos": {},
       "data": [
        [
         "s6515",
         "Movie",
         "The Most Dangerous Game",
         "Ernest B. Schoedsack, Irving Pichel",
         "Joel McCrea, Fay Wray, Robert Armstrong, Leslie Banks",
         null,
         null,
         "1932",
         "13+",
         "62 min",
         "Action",
         "A psychotic big game hunter, Zaroff (Leslie Banks) deliberately strands the survivor, Robert Rainsford (Joel McCrae), of a luxury yacht on a remote island. It is here Zaroff begins to hunt Rainsford and a companion, Eve Trowbridge (Fay Wray), for sport."
        ],
        [
         "s1548",
         "Movie",
         "My Man Godfrey",
         "Gregory Lacava",
         "Carole Lombard, William Powell",
         null,
         null,
         "1936",
         "7+",
         "93 min",
         "Comedy",
         "\"Nominated for 4 Academy Awards! A wealthy New York family in the 1930's brings in a destitute and \"\"Forgotten Man\"\" as their butler. Expertly restored original black and white.\""
        ],
        [
         "s6642",
         "Movie",
         "His Girl Friday",
         "Howard Hawks",
         "Cary Grant, Rosalind Russell, Ralph Bellamy, Gene Lockhart, Porter Hall",
         null,
         null,
         "1940",
         "16+",
         "92 min",
         "Comedy, Drama, Romance",
         "A newspaper editor uses every trick in the book to keep his ace reporter ex-wife from remarrying."
        ],
        [
         "s6652",
         "Movie",
         "Detour",
         "Edgar G. Ulmer",
         "Tom Neal, Ann Savage, Edmund MacDonald, Claudia Drake",
         null,
         null,
         "1945",
         "13+",
         "68 min",
         "Drama",
         "A nightclub pianist (Tom Neal) hitchhikes to join his girl in LA. When the sleazy gambler he's riding with mysteriously dies; he takes the man's identity. But thanks to a blackmailing dame (Ann Savage) his every move plunges him deeper into trouble."
        ],
        [
         "s9186",
         "Movie",
         "Hamlet",
         "Laurence Olivier",
         "Laurence Olivier, John Laurie, Jean Simmons, Esmond Knight, Anthony Quayle",
         null,
         null,
         "1948",
         "13+",
         "154 min",
         "Drama",
         "Laurence Olivier directs himself in this classic rendition of William Shakespeare's tale of the brooding Danish prince who decides to exact revenge on his uncle for the murder of his father."
        ],
        [
         "s2124",
         "Movie",
         "In a Lonely Place",
         "Nicholas Ray",
         "Humphrey Bogart, Gloria Grahame, Frank Lovejoy, Carl Benton Reid, Art Smith, Jeff Donnell, Martha Stewart, John Mitchum, James Arness, Billy Gray",
         null,
         null,
         "1950",
         "13+",
         "93 min",
         "Drama, Suspense",
         "A potentially violent screenwriter (Humphrey Bogart) is a murder suspect until his lovely neighbor clears him. However, she soon starts to have her doubts."
        ],
        [
         "s4960",
         "Movie",
         "Aparajito",
         "Satyajit Ray",
         "Karuna Banerjee, Santi Gupta, Rani Bala, Keya Sengupta, Kanu Banerjee, Ajay Mitra",
         null,
         null,
         "1956",
         "ALL",
         "100 min",
         "Drama",
         "After the death of his father, Apu leaves his mother and goes to Kolkata to study. His mother falls sick but she doesn't let the news get to him, because it would affect his academics."
        ],
        [
         "s6098",
         "Movie",
         "Charade",
         "Stanley Donen",
         "Cary Grant, Audrey Hepburn, Walter Matthau, James Coburn, George Kennedy",
         null,
         null,
         "1963",
         "16+",
         "113 min",
         "Comedy",
         "In Paris, romance and suspense ensue as a woman is pursued by several men who want a fortune her murdered husband had stolen. Whom can she trust?"
        ],
        [
         "s6148",
         "Movie",
         "The Naked Kiss",
         "Samuel Fuller",
         "Constance Towers, Anthony Eisley, Michael Dante, Virginia Grey, Patsy Kelly",
         null,
         null,
         "1964",
         "16+",
         "91 min",
         "Drama",
         "Kelly's path towards happiness is thrown amiss when she witnesses a shocking event, which threatens not just her happiness, but her mental health as well."
        ],
        [
         "s9073",
         "Movie",
         "The Graduate",
         "Mike Nichols",
         "Dustin Hoffman, Anne Bancroft, Katharine Ross, Norman Fell, William Daniels, Murray Hamilton, Elizabeth Wilson, Brian Avery, Walter Brooke",
         null,
         null,
         "1967",
         "PG",
         "106 min",
         "Comedy, Drama",
         "Hollywood darlings Dustin Hoffman, Anne Bancroft and Katharine Ross create one outrageous love triangle in this groundbreaking American film classic."
        ],
        [
         "s2249",
         "Movie",
         "Harold and Maude",
         "Hal Ashby",
         "Ruth Gordon, Bud Cort, Tom Skerritt",
         "United States",
         null,
         "1971",
         "PG",
         "92 min",
         "Comedy, Drama",
         "Harold is young, rich and obsessed with death. Maude is a lovable a fun-loving 80-year-old eccentric. When the two meet at a funeral and develop a deep bond, they must reconcile their disparate beliefs about the meaning life."
        ],
        [
         "s8180",
         "Movie",
         "The Discreet Charm of the Bourgeoisie",
         "Luis Buñuel",
         "Fernando Rey, Delphine Seyrig, Stéphane Audran, Jean-Pierre Cassel, Paul Frankeur, Bulle Ogier",
         null,
         null,
         "1972",
         "ALL",
         "102 min",
         "Comedy, Drama, Science Fiction",
         "In Luis Bunuel's satiric, Oscar-winning masterpiece, an upper-class sextet sits down to dinner but never eats, their attempts continually thwarted by a vaudevillian mixture of events both actual and imagined."
        ],
        [
         "s3734",
         "Movie",
         "The Man Who Fell to Earth",
         "Nicolas Roeg",
         "David Bowie, Rip Torn, Candy Clark, Buck Henry, Bernie Casey, Jackson D. Kane, Rick Riccardo, Tony Mascia, Linda Hutton",
         null,
         null,
         "1976",
         "R",
         "139 min",
         "Drama, Fantasy, Science Fiction",
         "Thomas Jerome Newton (David Bowie) is a humanoid alien who comes to Earth to get water for his dying planet. He starts a high technology company to get the billions of dollars he needs to build a return spacecraft."
        ],
        [
         "s9624",
         "Movie",
         "The Princess Bride",
         "Rob Reiner",
         "Cary Elwes, Mandy Patinkin, Chris Sarandon, Christopher Guest, Wallace Shawn, André the Giant, Fred Savage, Robin Wright Penn, Peter Falk, Peter Cook, Mel Smith, Carol Kane, Billy Crystal, Anne Dyson, Margery Mason, Malcolm Storry, Willoughby Gray, Betsy Brantley, Paul Badger, Sallie McLaughlin",
         null,
         null,
         "1987",
         "PG",
         "98 min",
         "Action, Kids, Science Fiction",
         "Based on William Goldman's novel of the same name, The Princess Bride is staged as a book read by grandfather (Peter Falk) to his ill grandson (Fred Savage). Falk's character assures a romance-weary Savage that the book has much more to deliver than a simpering love story, including but not limited to fencing, fighting, torture, death, true love, giants, and pirates."
        ],
        [
         "s7819",
         "Movie",
         "Dead Ringers",
         "David Cronenberg",
         "Jeremy Irons, Geneviève Bujold, Heidi von Palleske, Barbara Gordon",
         null,
         null,
         "1988",
         "R",
         "115 min",
         "Drama, Horror, Suspense",
         "Twin gynecologists take full advantage of the fact that nobody can tell them apart, until their relationship begins to deteriorate over a woman."
        ],
        [
         "s8320",
         "Movie",
         "Do the Right Thing",
         "Spike Lee",
         "Danny Aiello, Ossie Davis, Ruby Dee, Richard Edson, Giancarlo Esposito, Spike Lee, Bill Nunn, John Turturro, Rosie Perez, Paul Benjamin, Frankie R. Faison, Robin Harris, Joie Lee, Samuel L. Jackson, Roger Guenveur Smith, John Savage",
         null,
         null,
         "1989",
         "R",
         "121 min",
         "Comedy, Drama",
         "Director Spike Lee's seminal exploration of race and violence takes place in a Brooklyn neighborhood anchored by Sal's Pizzeria - where the heat of summer is boiling over! Biting humor and riveting drama."
        ],
        [
         "s8162",
         "Movie",
         "Armageddon",
         "Michael Bay",
         "Bruce Willis, Billy Thornton, Liv Tyler, Ben Affleck, Will Patton, Peter Stormare, Keith David",
         "United States",
         null,
         "1998",
         "PG-13",
         "151 min",
         "Action, Adventure",
         "A large asteroid is heading directly toward Earth."
        ],
        [
         "s8608",
         "Movie",
         "All About My Mother",
         "Pedro Almodovar",
         "Marisa Peredes, Penelope Cruz, Candela Pena, Cecilia Roth, Rosa Maria Sarda, Antonia San Juan",
         null,
         null,
         "1999",
         "R",
         "101 min",
         "Drama, International",
         "Pedro Almodovar's Oscar(r)-winning comedy (Best Foreign Film, 1999) about a bereaved mother, an overwrought actress, her jealous lover and a pregnant nun."
        ],
        [
         "s9068",
         "Movie",
         "The Life Aquatic with Steve Zissou",
         "Wes Anderson",
         "Bill Murray, Owen Wilson, Cate Blanchett, Anjelica Huston, Willen Dafoe, Jeff Goldblum, Michael Gambon, Bud Cort",
         null,
         null,
         "2004",
         "R",
         "119 min",
         "Action, Adventure, Comedy",
         "An oceanographer sets out after the shark that killed his partner."
        ],
        [
         "s7296",
         "Movie",
         "The Squid and the Whale",
         "Noah Baumbach",
         "Jeff Daniels, Laura Linney, Jesse Eisenberg, Owen Kline, William Baldwin, Anna Paquin, Alexandra Daddario",
         null,
         null,
         "2005",
         "R",
         "81 min",
         "Arthouse, Comedy, Drama",
         "In his third feature, director Noah Baumbach scores a triumph with an autobiographical coming-of-age story about a teenager whose writer-parents are divorcing. The father (Jeff Daniels) and mother (Laura Linney) duke it out in half-civilized, half-savage fashion, while their two sons (Jesse Eisenberg and Owen Kline) adapt in different ways, shifting allegiances between parents."
        ],
        [
         "s2100",
         "Movie",
         "Inside Llewyn Davis",
         "Ethan Coen, Joel Coen",
         "Justin Timberlake, Carey Mulligan, Adam Driver, John Goodman, Garrett Hedlund, Alex Karpovsky, Oscar Isaac, F. Murray Abraham, Stark Sands, Jeanine Serralles",
         null,
         null,
         "2013",
         "R",
         "105 min",
         "Drama",
         "An aspiring singer-songwriter navigates the 1960s folk-music scene in New York City's Greenwich Village."
        ],
        [
         "s4158",
         "Movie",
         "Cold War",
         "Pawel Pawlikowski",
         "Joanna Kulig, Tomasz Kot, Borys Szyc, Agata Kulesza, Jeanne Balibar, Cédric Kahn",
         null,
         null,
         "2018",
         "R",
         "89 min",
         "Arthouse, Drama",
         "Included with your Prime membership. Nominated for 3 Academy Awards including Best Director, comes a passionate love story between two people of different backgrounds, who are fatefully mismatched and yet condemned to each other. Set against the background of the Cold War in the 1950s, the film depicts an impossible love story in impossible times."
        ]
       ],
       "datasetInfos": [],
       "dbfsResultPath": null,
       "isJsonSchema": true,
       "metadata": {},
       "overflow": false,
       "plotOptions": {
        "customPlotOptions": {},
        "displayType": "table",
        "pivotAggregation": null,
        "pivotColumns": null,
        "xColumns": null,
        "yColumns": null
       },
       "removedWidgets": [],
       "schema": [
        {
         "metadata": "{}",
         "name": "show_id",
         "type": "\"string\""
        },
        {
         "metadata": "{}",
         "name": "type",
         "type": "\"string\""
        },
        {
         "metadata": "{}",
         "name": "title",
         "type": "\"string\""
        },
        {
         "metadata": "{}",
         "name": "director",
         "type": "\"string\""
        },
        {
         "metadata": "{}",
         "name": "cast",
         "type": "\"string\""
        },
        {
         "metadata": "{}",
         "name": "country",
         "type": "\"string\""
        },
        {
         "metadata": "{}",
         "name": "date_added",
         "type": "\"string\""
        },
        {
         "metadata": "{}",
         "name": "release_year",
         "type": "\"string\""
        },
        {
         "metadata": "{}",
         "name": "rating",
         "type": "\"string\""
        },
        {
         "metadata": "{}",
         "name": "duration",
         "type": "\"string\""
        },
        {
         "metadata": "{}",
         "name": "listed_in",
         "type": "\"string\""
        },
        {
         "metadata": "{}",
         "name": "description",
         "type": "\"string\""
        }
       ],
       "type": "table"
      }
     },
     "output_type": "display_data"
    }
   ],
   "source": [
    "amazon_criterion = spark.sql(\"SELECT m.* FROM amazon m INNER JOIN criterion c on m.title = c.title and m.release_year = c.year ORDER BY m.release_year\")\n",
    "display(amazon_criterion)"
   ]
  },
  {
   "cell_type": "code",
   "execution_count": 0,
   "metadata": {
    "application/vnd.databricks.v1+cell": {
     "cellMetadata": {
      "byteLimit": 2048000,
      "rowLimit": 10000
     },
     "inputWidgets": {},
     "nuid": "db9631f6-bb4a-42ca-8a3c-0d48af932331",
     "showTitle": false,
     "tableResultSettingsMap": {},
     "title": ""
    }
   },
   "outputs": [],
   "source": [
    "# With this registered as a temp view, it will only be available to this particular notebook. If you'd like other users to be able to query this table, you can also create a table from the DataFrame.\n",
    "# Once saved, this table will persist across cluster restarts as well as allow various users across different notebooks to query this data.\n",
    "# To do so, choose your table name and uncomment the bottom line.\n",
    "\n",
    "netflix_criterion.write.format(\"csv\").saveAsTable(\"20250528_netflix_criterion\")\n"
   ]
  }
 ],
 "metadata": {
  "application/vnd.databricks.v1+notebook": {
   "computePreferences": null,
   "dashboards": [],
   "environmentMetadata": null,
   "inputWidgetPreferences": null,
   "language": "python",
   "notebookMetadata": {
    "pythonIndentUnit": 4
   },
   "notebookName": "2025-05-28 - DBFS Example",
   "widgets": {}
  }
 },
 "nbformat": 4,
 "nbformat_minor": 0
}